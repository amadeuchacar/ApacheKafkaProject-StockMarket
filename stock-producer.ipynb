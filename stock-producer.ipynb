{
 "cells": [
  {
   "cell_type": "markdown",
   "id": "b01c72b8",
   "metadata": {},
   "source": [
    "## APACHE KAFKA PROJECT 01 - PRODUCER\n",
    "Creating the producer to send data to Apache Kafka.\n",
    "The data is a real time simulation with a stock market file (CSV)."
   ]
  },
  {
   "cell_type": "markdown",
   "id": "e655f04d",
   "metadata": {},
   "source": [
    "#### Libraries"
   ]
  },
  {
   "cell_type": "code",
   "execution_count": null,
   "id": "27ca52e4",
   "metadata": {},
   "outputs": [],
   "source": [
    "import pandas as pd\n",
    "from kafka import KafkaProducer\n",
    "from time import sleep\n",
    "from json import dumps\n",
    "import json\n",
    "from dotenv import load_dotenv\n",
    "import os"
   ]
  },
  {
   "cell_type": "markdown",
   "id": "e14e4c89",
   "metadata": {},
   "source": [
    "#### Loading the environment variables"
   ]
  },
  {
   "cell_type": "code",
   "execution_count": null,
   "id": "4212b7d4",
   "metadata": {},
   "outputs": [],
   "source": [
    "load_dotenv()\n",
    "\n",
    "bootstrap_servers = os.environ.get('BOOTSTRAP_SERVERS') #Apache Kafka server\n",
    "topic_name = os.environ.get('TOPIC_NAME') #Topic created in Apache Kafka"
   ]
  },
  {
   "cell_type": "markdown",
   "id": "9903a597",
   "metadata": {},
   "source": [
    "#### Creating the producer"
   ]
  },
  {
   "cell_type": "code",
   "execution_count": null,
   "id": "f9b81318",
   "metadata": {},
   "outputs": [],
   "source": [
    "producer = KafkaProducer(bootstrap_servers=bootstrap_servers,\n",
    "                        value_serializer = lambda x:\n",
    "                        dumps(x).encode('utf-8'))"
   ]
  },
  {
   "cell_type": "markdown",
   "id": "d7ef65f8",
   "metadata": {},
   "source": [
    "#### Reading the CSV file that will be send in real time, line by line"
   ]
  },
  {
   "cell_type": "code",
   "execution_count": null,
   "id": "883e2b1d",
   "metadata": {},
   "outputs": [],
   "source": [
    "df = pd.read_csv('indexProcessed.csv')"
   ]
  },
  {
   "cell_type": "code",
   "execution_count": null,
   "id": "0b84ae04",
   "metadata": {
    "scrolled": true
   },
   "outputs": [],
   "source": [
    "df.head()"
   ]
  },
  {
   "cell_type": "markdown",
   "id": "95a2c077",
   "metadata": {},
   "source": [
    "#### Producing the data to Apache Kafka Topic"
   ]
  },
  {
   "cell_type": "code",
   "execution_count": null,
   "id": "63e9d2d8",
   "metadata": {},
   "outputs": [],
   "source": [
    "while True:\n",
    "    dict_stock = df.sample(1).to_dict(orient='records')[0]\n",
    "    producer.send(topic_name, value = dict_stock)\n",
    "    sleep(2)"
   ]
  },
  {
   "cell_type": "markdown",
   "id": "799070aa",
   "metadata": {},
   "source": [
    "#### Cleaning the data from buffer"
   ]
  },
  {
   "cell_type": "code",
   "execution_count": null,
   "id": "318a1b7c",
   "metadata": {},
   "outputs": [],
   "source": [
    "producer.flush()"
   ]
  }
 ],
 "metadata": {
  "kernelspec": {
   "display_name": "Python 3",
   "language": "python",
   "name": "python3"
  },
  "language_info": {
   "codemirror_mode": {
    "name": "ipython",
    "version": 3
   },
   "file_extension": ".py",
   "mimetype": "text/x-python",
   "name": "python",
   "nbconvert_exporter": "python",
   "pygments_lexer": "ipython3",
   "version": "3.8.8"
  }
 },
 "nbformat": 4,
 "nbformat_minor": 5
}
